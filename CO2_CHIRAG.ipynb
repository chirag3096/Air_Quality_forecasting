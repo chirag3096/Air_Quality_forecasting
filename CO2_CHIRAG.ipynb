{
  "nbformat": 4,
  "nbformat_minor": 0,
  "metadata": {
    "colab": {
      "name": "CO2_CHIRAG.ipynb",
      "provenance": [],
      "include_colab_link": true
    },
    "kernelspec": {
      "name": "python3",
      "display_name": "Python 3"
    },
    "language_info": {
      "name": "python"
    }
  },
  "cells": [
    {
      "cell_type": "markdown",
      "metadata": {
        "id": "view-in-github",
        "colab_type": "text"
      },
      "source": [
        "<a href=\"https://colab.research.google.com/github/chirag3096/Project/blob/main/CO2_CHIRAG.ipynb\" target=\"_parent\"><img src=\"https://colab.research.google.com/assets/colab-badge.svg\" alt=\"Open In Colab\"/></a>"
      ]
    },
    {
      "cell_type": "code",
      "metadata": {
        "id": "y4YzzDbrSSi_"
      },
      "source": [
        "import pandas as pd\n",
        "import numpy as np\n",
        "import seaborn as sns\n",
        "import matplotlib.pyplot as plt"
      ],
      "execution_count": 3,
      "outputs": []
    },
    {
      "cell_type": "code",
      "metadata": {
        "id": "BCdOGeRqSdxI"
      },
      "source": [
        "data=pd.read_excel(\"/content/CO2 dataset.xlsx\")"
      ],
      "execution_count": 4,
      "outputs": []
    },
    {
      "cell_type": "code",
      "metadata": {
        "colab": {
          "base_uri": "https://localhost:8080/",
          "height": 424
        },
        "id": "zcbEKdqASluw",
        "outputId": "9cd34ce8-1eda-4887-cefc-2c44e349bdb0"
      },
      "source": [
        "data"
      ],
      "execution_count": 5,
      "outputs": [
        {
          "output_type": "execute_result",
          "data": {
            "text/html": [
              "<div>\n",
              "<style scoped>\n",
              "    .dataframe tbody tr th:only-of-type {\n",
              "        vertical-align: middle;\n",
              "    }\n",
              "\n",
              "    .dataframe tbody tr th {\n",
              "        vertical-align: top;\n",
              "    }\n",
              "\n",
              "    .dataframe thead th {\n",
              "        text-align: right;\n",
              "    }\n",
              "</style>\n",
              "<table border=\"1\" class=\"dataframe\">\n",
              "  <thead>\n",
              "    <tr style=\"text-align: right;\">\n",
              "      <th></th>\n",
              "      <th>Year</th>\n",
              "      <th>CO2</th>\n",
              "    </tr>\n",
              "  </thead>\n",
              "  <tbody>\n",
              "    <tr>\n",
              "      <th>0</th>\n",
              "      <td>1800</td>\n",
              "      <td>0.00568</td>\n",
              "    </tr>\n",
              "    <tr>\n",
              "      <th>1</th>\n",
              "      <td>1801</td>\n",
              "      <td>0.00561</td>\n",
              "    </tr>\n",
              "    <tr>\n",
              "      <th>2</th>\n",
              "      <td>1802</td>\n",
              "      <td>0.00555</td>\n",
              "    </tr>\n",
              "    <tr>\n",
              "      <th>3</th>\n",
              "      <td>1803</td>\n",
              "      <td>0.00548</td>\n",
              "    </tr>\n",
              "    <tr>\n",
              "      <th>4</th>\n",
              "      <td>1804</td>\n",
              "      <td>0.00542</td>\n",
              "    </tr>\n",
              "    <tr>\n",
              "      <th>...</th>\n",
              "      <td>...</td>\n",
              "      <td>...</td>\n",
              "    </tr>\n",
              "    <tr>\n",
              "      <th>210</th>\n",
              "      <td>2010</td>\n",
              "      <td>15.60000</td>\n",
              "    </tr>\n",
              "    <tr>\n",
              "      <th>211</th>\n",
              "      <td>2011</td>\n",
              "      <td>15.60000</td>\n",
              "    </tr>\n",
              "    <tr>\n",
              "      <th>212</th>\n",
              "      <td>2012</td>\n",
              "      <td>14.80000</td>\n",
              "    </tr>\n",
              "    <tr>\n",
              "      <th>213</th>\n",
              "      <td>2013</td>\n",
              "      <td>14.70000</td>\n",
              "    </tr>\n",
              "    <tr>\n",
              "      <th>214</th>\n",
              "      <td>2014</td>\n",
              "      <td>15.10000</td>\n",
              "    </tr>\n",
              "  </tbody>\n",
              "</table>\n",
              "<p>215 rows × 2 columns</p>\n",
              "</div>"
            ],
            "text/plain": [
              "     Year       CO2\n",
              "0    1800   0.00568\n",
              "1    1801   0.00561\n",
              "2    1802   0.00555\n",
              "3    1803   0.00548\n",
              "4    1804   0.00542\n",
              "..    ...       ...\n",
              "210  2010  15.60000\n",
              "211  2011  15.60000\n",
              "212  2012  14.80000\n",
              "213  2013  14.70000\n",
              "214  2014  15.10000\n",
              "\n",
              "[215 rows x 2 columns]"
            ]
          },
          "metadata": {},
          "execution_count": 5
        }
      ]
    },
    {
      "cell_type": "code",
      "metadata": {
        "colab": {
          "base_uri": "https://localhost:8080/",
          "height": 206
        },
        "id": "jFIQZU_eSmrY",
        "outputId": "1c2f5612-9140-4efb-de13-796034ee11b4"
      },
      "source": [
        "data.head()"
      ],
      "execution_count": 6,
      "outputs": [
        {
          "output_type": "execute_result",
          "data": {
            "text/html": [
              "<div>\n",
              "<style scoped>\n",
              "    .dataframe tbody tr th:only-of-type {\n",
              "        vertical-align: middle;\n",
              "    }\n",
              "\n",
              "    .dataframe tbody tr th {\n",
              "        vertical-align: top;\n",
              "    }\n",
              "\n",
              "    .dataframe thead th {\n",
              "        text-align: right;\n",
              "    }\n",
              "</style>\n",
              "<table border=\"1\" class=\"dataframe\">\n",
              "  <thead>\n",
              "    <tr style=\"text-align: right;\">\n",
              "      <th></th>\n",
              "      <th>Year</th>\n",
              "      <th>CO2</th>\n",
              "    </tr>\n",
              "  </thead>\n",
              "  <tbody>\n",
              "    <tr>\n",
              "      <th>0</th>\n",
              "      <td>1800</td>\n",
              "      <td>0.00568</td>\n",
              "    </tr>\n",
              "    <tr>\n",
              "      <th>1</th>\n",
              "      <td>1801</td>\n",
              "      <td>0.00561</td>\n",
              "    </tr>\n",
              "    <tr>\n",
              "      <th>2</th>\n",
              "      <td>1802</td>\n",
              "      <td>0.00555</td>\n",
              "    </tr>\n",
              "    <tr>\n",
              "      <th>3</th>\n",
              "      <td>1803</td>\n",
              "      <td>0.00548</td>\n",
              "    </tr>\n",
              "    <tr>\n",
              "      <th>4</th>\n",
              "      <td>1804</td>\n",
              "      <td>0.00542</td>\n",
              "    </tr>\n",
              "  </tbody>\n",
              "</table>\n",
              "</div>"
            ],
            "text/plain": [
              "   Year      CO2\n",
              "0  1800  0.00568\n",
              "1  1801  0.00561\n",
              "2  1802  0.00555\n",
              "3  1803  0.00548\n",
              "4  1804  0.00542"
            ]
          },
          "metadata": {},
          "execution_count": 6
        }
      ]
    },
    {
      "cell_type": "code",
      "metadata": {
        "colab": {
          "base_uri": "https://localhost:8080/",
          "height": 206
        },
        "id": "Q2MfVx0ESqyV",
        "outputId": "5f793baa-9d4e-402f-b44c-34809b61979e"
      },
      "source": [
        "data.tail()"
      ],
      "execution_count": 7,
      "outputs": [
        {
          "output_type": "execute_result",
          "data": {
            "text/html": [
              "<div>\n",
              "<style scoped>\n",
              "    .dataframe tbody tr th:only-of-type {\n",
              "        vertical-align: middle;\n",
              "    }\n",
              "\n",
              "    .dataframe tbody tr th {\n",
              "        vertical-align: top;\n",
              "    }\n",
              "\n",
              "    .dataframe thead th {\n",
              "        text-align: right;\n",
              "    }\n",
              "</style>\n",
              "<table border=\"1\" class=\"dataframe\">\n",
              "  <thead>\n",
              "    <tr style=\"text-align: right;\">\n",
              "      <th></th>\n",
              "      <th>Year</th>\n",
              "      <th>CO2</th>\n",
              "    </tr>\n",
              "  </thead>\n",
              "  <tbody>\n",
              "    <tr>\n",
              "      <th>210</th>\n",
              "      <td>2010</td>\n",
              "      <td>15.6</td>\n",
              "    </tr>\n",
              "    <tr>\n",
              "      <th>211</th>\n",
              "      <td>2011</td>\n",
              "      <td>15.6</td>\n",
              "    </tr>\n",
              "    <tr>\n",
              "      <th>212</th>\n",
              "      <td>2012</td>\n",
              "      <td>14.8</td>\n",
              "    </tr>\n",
              "    <tr>\n",
              "      <th>213</th>\n",
              "      <td>2013</td>\n",
              "      <td>14.7</td>\n",
              "    </tr>\n",
              "    <tr>\n",
              "      <th>214</th>\n",
              "      <td>2014</td>\n",
              "      <td>15.1</td>\n",
              "    </tr>\n",
              "  </tbody>\n",
              "</table>\n",
              "</div>"
            ],
            "text/plain": [
              "     Year   CO2\n",
              "210  2010  15.6\n",
              "211  2011  15.6\n",
              "212  2012  14.8\n",
              "213  2013  14.7\n",
              "214  2014  15.1"
            ]
          },
          "metadata": {},
          "execution_count": 7
        }
      ]
    },
    {
      "cell_type": "code",
      "metadata": {
        "colab": {
          "base_uri": "https://localhost:8080/"
        },
        "id": "B8FrT0-ESslN",
        "outputId": "72047c95-5536-44e4-bc53-3fd46e61033e"
      },
      "source": [
        "data.shape"
      ],
      "execution_count": 8,
      "outputs": [
        {
          "output_type": "execute_result",
          "data": {
            "text/plain": [
              "(215, 2)"
            ]
          },
          "metadata": {},
          "execution_count": 8
        }
      ]
    },
    {
      "cell_type": "code",
      "metadata": {
        "colab": {
          "base_uri": "https://localhost:8080/"
        },
        "id": "PxQikBwAS0XY",
        "outputId": "4de08a86-0984-4518-9c91-f0035de8b583"
      },
      "source": [
        "data.dtypes"
      ],
      "execution_count": 9,
      "outputs": [
        {
          "output_type": "execute_result",
          "data": {
            "text/plain": [
              "Year      int64\n",
              "CO2     float64\n",
              "dtype: object"
            ]
          },
          "metadata": {},
          "execution_count": 9
        }
      ]
    },
    {
      "cell_type": "code",
      "metadata": {
        "colab": {
          "base_uri": "https://localhost:8080/"
        },
        "id": "3X7x1zpITBj2",
        "outputId": "e8983778-c671-4d25-8c34-d13d91a5ce2f"
      },
      "source": [
        "data.info()"
      ],
      "execution_count": 10,
      "outputs": [
        {
          "output_type": "stream",
          "name": "stdout",
          "text": [
            "<class 'pandas.core.frame.DataFrame'>\n",
            "RangeIndex: 215 entries, 0 to 214\n",
            "Data columns (total 2 columns):\n",
            " #   Column  Non-Null Count  Dtype  \n",
            "---  ------  --------------  -----  \n",
            " 0   Year    215 non-null    int64  \n",
            " 1   CO2     215 non-null    float64\n",
            "dtypes: float64(1), int64(1)\n",
            "memory usage: 3.5 KB\n"
          ]
        }
      ]
    },
    {
      "cell_type": "code",
      "metadata": {
        "colab": {
          "base_uri": "https://localhost:8080/"
        },
        "id": "Fac1k_x6T3kY",
        "outputId": "7331c490-3903-46b3-d9c4-3161ad10730d"
      },
      "source": [
        "data.duplicated()\n"
      ],
      "execution_count": 11,
      "outputs": [
        {
          "output_type": "execute_result",
          "data": {
            "text/plain": [
              "0      False\n",
              "1      False\n",
              "2      False\n",
              "3      False\n",
              "4      False\n",
              "       ...  \n",
              "210    False\n",
              "211    False\n",
              "212    False\n",
              "213    False\n",
              "214    False\n",
              "Length: 215, dtype: bool"
            ]
          },
          "metadata": {},
          "execution_count": 11
        }
      ]
    },
    {
      "cell_type": "code",
      "metadata": {
        "colab": {
          "base_uri": "https://localhost:8080/"
        },
        "id": "Usa7qHgoTaph",
        "outputId": "f9abb439-dc12-400d-9ced-95c53a919825"
      },
      "source": [
        "data[data.duplicated()].shape"
      ],
      "execution_count": 12,
      "outputs": [
        {
          "output_type": "execute_result",
          "data": {
            "text/plain": [
              "(0, 2)"
            ]
          },
          "metadata": {},
          "execution_count": 12
        }
      ]
    },
    {
      "cell_type": "code",
      "metadata": {
        "colab": {
          "base_uri": "https://localhost:8080/",
          "height": 300
        },
        "id": "0MDab0Q1ZR11",
        "outputId": "8f74e75e-5126-4a35-83be-231f52e79062"
      },
      "source": [
        "data.describe()"
      ],
      "execution_count": 13,
      "outputs": [
        {
          "output_type": "execute_result",
          "data": {
            "text/html": [
              "<div>\n",
              "<style scoped>\n",
              "    .dataframe tbody tr th:only-of-type {\n",
              "        vertical-align: middle;\n",
              "    }\n",
              "\n",
              "    .dataframe tbody tr th {\n",
              "        vertical-align: top;\n",
              "    }\n",
              "\n",
              "    .dataframe thead th {\n",
              "        text-align: right;\n",
              "    }\n",
              "</style>\n",
              "<table border=\"1\" class=\"dataframe\">\n",
              "  <thead>\n",
              "    <tr style=\"text-align: right;\">\n",
              "      <th></th>\n",
              "      <th>Year</th>\n",
              "      <th>CO2</th>\n",
              "    </tr>\n",
              "  </thead>\n",
              "  <tbody>\n",
              "    <tr>\n",
              "      <th>count</th>\n",
              "      <td>215.000000</td>\n",
              "      <td>215.000000</td>\n",
              "    </tr>\n",
              "    <tr>\n",
              "      <th>mean</th>\n",
              "      <td>1907.000000</td>\n",
              "      <td>6.741970</td>\n",
              "    </tr>\n",
              "    <tr>\n",
              "      <th>std</th>\n",
              "      <td>62.209324</td>\n",
              "      <td>6.522437</td>\n",
              "    </tr>\n",
              "    <tr>\n",
              "      <th>min</th>\n",
              "      <td>1800.000000</td>\n",
              "      <td>0.001750</td>\n",
              "    </tr>\n",
              "    <tr>\n",
              "      <th>25%</th>\n",
              "      <td>1853.500000</td>\n",
              "      <td>0.041050</td>\n",
              "    </tr>\n",
              "    <tr>\n",
              "      <th>50%</th>\n",
              "      <td>1907.000000</td>\n",
              "      <td>6.390000</td>\n",
              "    </tr>\n",
              "    <tr>\n",
              "      <th>75%</th>\n",
              "      <td>1960.500000</td>\n",
              "      <td>11.500000</td>\n",
              "    </tr>\n",
              "    <tr>\n",
              "      <th>max</th>\n",
              "      <td>2014.000000</td>\n",
              "      <td>18.200000</td>\n",
              "    </tr>\n",
              "  </tbody>\n",
              "</table>\n",
              "</div>"
            ],
            "text/plain": [
              "              Year         CO2\n",
              "count   215.000000  215.000000\n",
              "mean   1907.000000    6.741970\n",
              "std      62.209324    6.522437\n",
              "min    1800.000000    0.001750\n",
              "25%    1853.500000    0.041050\n",
              "50%    1907.000000    6.390000\n",
              "75%    1960.500000   11.500000\n",
              "max    2014.000000   18.200000"
            ]
          },
          "metadata": {},
          "execution_count": 13
        }
      ]
    },
    {
      "cell_type": "code",
      "metadata": {
        "colab": {
          "base_uri": "https://localhost:8080/",
          "height": 282
        },
        "id": "8Z_sGdQVUCxb",
        "outputId": "a118041d-cde1-45f4-aa59-6462d932f4bc"
      },
      "source": [
        "data['CO2'].hist()"
      ],
      "execution_count": 14,
      "outputs": [
        {
          "output_type": "execute_result",
          "data": {
            "text/plain": [
              "<matplotlib.axes._subplots.AxesSubplot at 0x7f6ee05db6d0>"
            ]
          },
          "metadata": {},
          "execution_count": 14
        },
        {
          "output_type": "display_data",
          "data": {
            "image/png": "[encoded data removed]",
            "text/plain": [
              "<Figure size 432x288 with 1 Axes>"
            ]
          },
          "metadata": {
            "needs_background": "light"
          }
        }
      ]
    },
    {
      "cell_type": "code",
      "metadata": {
        "colab": {
          "base_uri": "https://localhost:8080/",
          "height": 404
        },
        "id": "4CeS5kH7YaCy",
        "outputId": "594cf12c-af28-4a3b-fc06-404b03fcafbf"
      },
      "source": [
        "data_box=data\n",
        "data1_box=data_box.CO2\n",
        "plt.boxplot(data1_box)"
      ],
      "execution_count": 15,
      "outputs": [
        {
          "output_type": "execute_result",
          "data": {
            "text/plain": [
              "{'boxes': [<matplotlib.lines.Line2D at 0x7f6edfb4ccd0>],\n",
              " 'caps': [<matplotlib.lines.Line2D at 0x7f6edf6839d0>,\n",
              "  <matplotlib.lines.Line2D at 0x7f6edf696090>],\n",
              " 'fliers': [<matplotlib.lines.Line2D at 0x7f6edfd02290>],\n",
              " 'means': [],\n",
              " 'medians': [<matplotlib.lines.Line2D at 0x7f6edf696210>],\n",
              " 'whiskers': [<matplotlib.lines.Line2D at 0x7f6edfb3c190>,\n",
              "  <matplotlib.lines.Line2D at 0x7f6edf6895d0>]}"
            ]
          },
          "metadata": {},
          "execution_count": 15
        },
        {
          "output_type": "display_data",
          "data": {
            "image/png": "[encoded data removed]",
            "text/plain": [
              "<Figure size 432x288 with 1 Axes>"
            ]
          },
          "metadata": {
            "needs_background": "light"
          }
        }
      ]
    },
    {
      "cell_type": "code",
      "metadata": {
        "colab": {
          "base_uri": "https://localhost:8080/",
          "height": 265
        },
        "id": "DwZntBf7eEhM",
        "outputId": "d857c498-db53-45d3-f0e1-944e292b7f30"
      },
      "source": [
        "box=plt.boxplot(data1_box)\n",
        "plt.savefig('image1.png')"
      ],
      "execution_count": 16,
      "outputs": [
        {
          "output_type": "display_data",
          "data": {
            "image/png": "[encoded data removed]",
            "text/plain": [
              "<Figure size 432x288 with 1 Axes>"
            ]
          },
          "metadata": {
            "needs_background": "light"
          }
        }
      ]
    },
    {
      "cell_type": "code",
      "metadata": {
        "colab": {
          "base_uri": "https://localhost:8080/"
        },
        "id": "Cb3bxTN5Y_eJ",
        "outputId": "6c9695bd-ce29-4d98-d401-00e9bf44da1c"
      },
      "source": [
        "[item.get_ydata() for item in box['fliers']]"
      ],
      "execution_count": 17,
      "outputs": [
        {
          "output_type": "execute_result",
          "data": {
            "text/plain": [
              "[array([], dtype=float64)]"
            ]
          },
          "metadata": {},
          "execution_count": 17
        }
      ]
    },
    {
      "cell_type": "code",
      "metadata": {
        "colab": {
          "base_uri": "https://localhost:8080/"
        },
        "id": "PCk8CtRwa8_1",
        "outputId": "68c622c8-28de-4eed-84ff-910615860d23"
      },
      "source": [
        "[item.get_ydata()[1] for item in box['whiskers']]"
      ],
      "execution_count": 18,
      "outputs": [
        {
          "output_type": "execute_result",
          "data": {
            "text/plain": [
              "[0.00175, 18.2]"
            ]
          },
          "metadata": {},
          "execution_count": 18
        }
      ]
    },
    {
      "cell_type": "code",
      "metadata": {
        "colab": {
          "base_uri": "https://localhost:8080/"
        },
        "id": "PsobGd_IfVxU",
        "outputId": "262f7b2d-da3d-4d9a-b7be-eea785488454"
      },
      "source": [
        "data.isnull().sum()"
      ],
      "execution_count": 19,
      "outputs": [
        {
          "output_type": "execute_result",
          "data": {
            "text/plain": [
              "Year    0\n",
              "CO2     0\n",
              "dtype: int64"
            ]
          },
          "metadata": {},
          "execution_count": 19
        }
      ]
    },
    {
      "cell_type": "code",
      "metadata": {
        "colab": {
          "base_uri": "https://localhost:8080/",
          "height": 270
        },
        "id": "H_AIJuk0bF4M",
        "outputId": "71716ed0-bc1e-4555-be17-59a7c700a5a1"
      },
      "source": [
        "cols = data.columns \n",
        "colours = ['#000099', '#ffff00'] \n",
        "sns.heatmap(data[cols].isnull(),\n",
        "            cmap=sns.color_palette(colours))\n",
        "plt.savefig('image2.png')"
      ],
      "execution_count": 20,
      "outputs": [
        {
          "output_type": "display_data",
          "data": {
            "image/png": "[encoded data removed]",
            "text/plain": [
              "<Figure size 432x288 with 2 Axes>"
            ]
          },
          "metadata": {
            "needs_background": "light"
          }
        }
      ]
    },
    {
      "cell_type": "code",
      "metadata": {
        "colab": {
          "base_uri": "https://localhost:8080/",
          "height": 391
        },
        "id": "yxlmoBi2fG5S",
        "outputId": "cd484524-b104-43f1-d9b9-d984e38b937b"
      },
      "source": [
        "sns.pairplot(data)"
      ],
      "execution_count": 21,
      "outputs": [
        {
          "output_type": "execute_result",
          "data": {
            "text/plain": [
              "<seaborn.axisgrid.PairGrid at 0x7f6edf52af90>"
            ]
          },
          "metadata": {},
          "execution_count": 21
        },
        {
          "output_type": "display_data",
          "data": {
            "image/png": "[encoded data removed]",
            "text/plain": [
              "<Figure size 360x360 with 6 Axes>"
            ]
          },
          "metadata": {
            "needs_background": "light"
          }
        }
      ]
    },
    {
      "cell_type": "code",
      "metadata": {
        "colab": {
          "base_uri": "https://localhost:8080/",
          "height": 112
        },
        "id": "qx9R-tLhf0TA",
        "outputId": "0f7304e5-84b9-421b-eb5f-4333ba9e0190"
      },
      "source": [
        "data.corr()"
      ],
      "execution_count": 22,
      "outputs": [
        {
          "output_type": "execute_result",
          "data": {
            "text/html": [
              "<div>\n",
              "<style scoped>\n",
              "    .dataframe tbody tr th:only-of-type {\n",
              "        vertical-align: middle;\n",
              "    }\n",
              "\n",
              "    .dataframe tbody tr th {\n",
              "        vertical-align: top;\n",
              "    }\n",
              "\n",
              "    .dataframe thead th {\n",
              "        text-align: right;\n",
              "    }\n",
              "</style>\n",
              "<table border=\"1\" class=\"dataframe\">\n",
              "  <thead>\n",
              "    <tr style=\"text-align: right;\">\n",
              "      <th></th>\n",
              "      <th>Year</th>\n",
              "      <th>CO2</th>\n",
              "    </tr>\n",
              "  </thead>\n",
              "  <tbody>\n",
              "    <tr>\n",
              "      <th>Year</th>\n",
              "      <td>1.000000</td>\n",
              "      <td>0.951243</td>\n",
              "    </tr>\n",
              "    <tr>\n",
              "      <th>CO2</th>\n",
              "      <td>0.951243</td>\n",
              "      <td>1.000000</td>\n",
              "    </tr>\n",
              "  </tbody>\n",
              "</table>\n",
              "</div>"
            ],
            "text/plain": [
              "          Year       CO2\n",
              "Year  1.000000  0.951243\n",
              "CO2   0.951243  1.000000"
            ]
          },
          "metadata": {},
          "execution_count": 22
        }
      ]
    },
    {
      "cell_type": "markdown",
      "source": [
        "Linear Regression Model"
      ],
      "metadata": {
        "id": "H6gaIk9oZDCS"
      }
    },
    {
      "cell_type": "code",
      "metadata": {
        "id": "mYAm1H_0wdJg",
        "colab": {
          "base_uri": "https://localhost:8080/",
          "height": 334
        },
        "outputId": "36c7a400-34f7-489f-f07e-246c5b16149d"
      },
      "source": [
        "import statsmodels.formula.api as smf\n",
        "model = smf.ols(\"CO2~Year\",data = data).fit()\n",
        "sns.regplot(x=\"Year\", y=\"CO2\", data=data);"
      ],
      "execution_count": 23,
      "outputs": [
        {
          "output_type": "stream",
          "name": "stderr",
          "text": [
            "/usr/local/lib/python3.7/dist-packages/statsmodels/tools/_testing.py:19: FutureWarning: pandas.util.testing is deprecated. Use the functions in the public API at pandas.testing instead.\n",
            "  import pandas.util.testing as tm\n"
          ]
        },
        {
          "output_type": "display_data",
          "data": {
            "image/png": "[encoded data removed]",
            "text/plain": [
              "<Figure size 432x288 with 1 Axes>"
            ]
          },
          "metadata": {
            "needs_background": "light"
          }
        }
      ]
    },
    {
      "cell_type": "code",
      "source": [
        "model.params"
      ],
      "metadata": {
        "colab": {
          "base_uri": "https://localhost:8080/"
        },
        "id": "3M1Asv6aZvdM",
        "outputId": "7d3dbc75-b962-4794-e625-ef9bfc783e48"
      },
      "execution_count": 24,
      "outputs": [
        {
          "output_type": "execute_result",
          "data": {
            "text/plain": [
              "Intercept   -183.451912\n",
              "Year           0.099735\n",
              "dtype: float64"
            ]
          },
          "metadata": {},
          "execution_count": 24
        }
      ]
    },
    {
      "cell_type": "code",
      "source": [
        "print(model.tvalues, '\\n', model.pvalues) "
      ],
      "metadata": {
        "colab": {
          "base_uri": "https://localhost:8080/"
        },
        "id": "dZtvYXH-Z1HG",
        "outputId": "a2245647-d3fa-4e30-9765-96877201fa56"
      },
      "execution_count": 25,
      "outputs": [
        {
          "output_type": "stream",
          "name": "stdout",
          "text": [
            "Intercept   -43.391300\n",
            "Year         45.009776\n",
            "dtype: float64 \n",
            " Intercept    1.020579e-107\n",
            "Year         8.971907e-111\n",
            "dtype: float64\n"
          ]
        }
      ]
    },
    {
      "cell_type": "code",
      "source": [
        "(model.rsquared,model.rsquared_adj)"
      ],
      "metadata": {
        "colab": {
          "base_uri": "https://localhost:8080/"
        },
        "id": "s5GR0ceKZ5U9",
        "outputId": "c5c7eae0-9085-473b-a55e-9e0992c8ed78"
      },
      "execution_count": 26,
      "outputs": [
        {
          "output_type": "execute_result",
          "data": {
            "text/plain": [
              "(0.904863141698126, 0.9044164897812158)"
            ]
          },
          "metadata": {},
          "execution_count": 26
        }
      ]
    },
    {
      "cell_type": "code",
      "source": [
        "newdata=pd.Series([2018,2025])\n"
      ],
      "metadata": {
        "id": "j_d988IYRiP1"
      },
      "execution_count": 27,
      "outputs": []
    },
    {
      "cell_type": "code",
      "source": [
        "data_pred=pd.DataFrame(newdata,columns=['Year'])\n"
      ],
      "metadata": {
        "id": "O-k1WVfURik4"
      },
      "execution_count": 28,
      "outputs": []
    },
    {
      "cell_type": "code",
      "source": [
        "model.predict(data_pred)"
      ],
      "metadata": {
        "colab": {
          "base_uri": "https://localhost:8080/"
        },
        "id": "alsI-LnGRwBg",
        "outputId": "cc5b727e-d415-43bb-d293-fa3a1f829dab"
      },
      "execution_count": 29,
      "outputs": [
        {
          "output_type": "execute_result",
          "data": {
            "text/plain": [
              "0    17.812511\n",
              "1    18.510653\n",
              "dtype: float64"
            ]
          },
          "metadata": {},
          "execution_count": 29
        }
      ]
    },
    {
      "cell_type": "markdown",
      "source": [
        "AIRMA Model"
      ],
      "metadata": {
        "id": "7gckjGLIb582"
      }
    },
    {
      "cell_type": "code",
      "source": [
        "from pandas import read_excel\n",
        "from matplotlib import pyplot\n",
        "from numpy import sqrt\n",
        "import warnings\n",
        "import itertools\n",
        "import pandas as pd\n",
        "import numpy as np\n",
        "import matplotlib.pyplot as plt\n",
        "import statsmodels.api as sm"
      ],
      "metadata": {
        "id": "Hyrm9y-nnhNi"
      },
      "execution_count": 30,
      "outputs": []
    },
    {
      "cell_type": "code",
      "source": [
        "data1= read_excel('/content/CO2 dataset.xlsx', header=0, index_col=0, parse_dates=True)"
      ],
      "metadata": {
        "id": "tR1h8FFONRXm"
      },
      "execution_count": 34,
      "outputs": []
    },
    {
      "cell_type": "code",
      "source": [
        "data1"
      ],
      "metadata": {
        "colab": {
          "base_uri": "https://localhost:8080/",
          "height": 455
        },
        "id": "rI9NUJqqNcZw",
        "outputId": "21e16807-7e53-44cb-95d0-a64990f354a7"
      },
      "execution_count": 36,
      "outputs": [
        {
          "output_type": "execute_result",
          "data": {
            "text/html": [
              "<div>\n",
              "<style scoped>\n",
              "    .dataframe tbody tr th:only-of-type {\n",
              "        vertical-align: middle;\n",
              "    }\n",
              "\n",
              "    .dataframe tbody tr th {\n",
              "        vertical-align: top;\n",
              "    }\n",
              "\n",
              "    .dataframe thead th {\n",
              "        text-align: right;\n",
              "    }\n",
              "</style>\n",
              "<table border=\"1\" class=\"dataframe\">\n",
              "  <thead>\n",
              "    <tr style=\"text-align: right;\">\n",
              "      <th></th>\n",
              "      <th>CO2</th>\n",
              "    </tr>\n",
              "    <tr>\n",
              "      <th>Year</th>\n",
              "      <th></th>\n",
              "    </tr>\n",
              "  </thead>\n",
              "  <tbody>\n",
              "    <tr>\n",
              "      <th>1800-01-01</th>\n",
              "      <td>0.00568</td>\n",
              "    </tr>\n",
              "    <tr>\n",
              "      <th>1801-01-01</th>\n",
              "      <td>0.00561</td>\n",
              "    </tr>\n",
              "    <tr>\n",
              "      <th>1802-01-01</th>\n",
              "      <td>0.00555</td>\n",
              "    </tr>\n",
              "    <tr>\n",
              "      <th>1803-01-01</th>\n",
              "      <td>0.00548</td>\n",
              "    </tr>\n",
              "    <tr>\n",
              "      <th>1804-01-01</th>\n",
              "      <td>0.00542</td>\n",
              "    </tr>\n",
              "    <tr>\n",
              "      <th>...</th>\n",
              "      <td>...</td>\n",
              "    </tr>\n",
              "    <tr>\n",
              "      <th>2010-01-01</th>\n",
              "      <td>15.60000</td>\n",
              "    </tr>\n",
              "    <tr>\n",
              "      <th>2011-01-01</th>\n",
              "      <td>15.60000</td>\n",
              "    </tr>\n",
              "    <tr>\n",
              "      <th>2012-01-01</th>\n",
              "      <td>14.80000</td>\n",
              "    </tr>\n",
              "    <tr>\n",
              "      <th>2013-01-01</th>\n",
              "      <td>14.70000</td>\n",
              "    </tr>\n",
              "    <tr>\n",
              "      <th>2014-01-01</th>\n",
              "      <td>15.10000</td>\n",
              "    </tr>\n",
              "  </tbody>\n",
              "</table>\n",
              "<p>215 rows × 1 columns</p>\n",
              "</div>"
            ],
            "text/plain": [
              "                 CO2\n",
              "Year                \n",
              "1800-01-01   0.00568\n",
              "1801-01-01   0.00561\n",
              "1802-01-01   0.00555\n",
              "1803-01-01   0.00548\n",
              "1804-01-01   0.00542\n",
              "...              ...\n",
              "2010-01-01  15.60000\n",
              "2011-01-01  15.60000\n",
              "2012-01-01  14.80000\n",
              "2013-01-01  14.70000\n",
              "2014-01-01  15.10000\n",
              "\n",
              "[215 rows x 1 columns]"
            ]
          },
          "metadata": {},
          "execution_count": 36
        }
      ]
    },
    {
      "cell_type": "code",
      "source": [
        "from pandas import read_excel\n",
        "from matplotlib import pyplot\n",
        "data1.plot()\n",
        "pyplot.show()\n"
      ],
      "metadata": {
        "colab": {
          "base_uri": "https://localhost:8080/",
          "height": 279
        },
        "id": "XJih_KZyNp2q",
        "outputId": "cd15c784-5d1a-4308-b8b6-f672d469b36e"
      },
      "execution_count": 38,
      "outputs": [
        {
          "output_type": "display_data",
          "data": {
            "image/png": "[encoded data removed]",
            "text/plain": [
              "<Figure size 432x288 with 1 Axes>"
            ]
          },
          "metadata": {
            "needs_background": "light"
          }
        }
      ]
    },
    {
      "cell_type": "code",
      "source": [
        "# separate out a validation dataset\n",
        "split_point = len(series) - 10\n",
        "dataset, validation = data1[0:split_point], data1[split_point:]\n",
        "print('Dataset %d, Validation %d' % (len(dataset), len(validation)))\n",
        "dataset.to_csv('dataset.csv', header=False)\n",
        "validation.to_csv('validation.csv', header=False)"
      ],
      "metadata": {
        "colab": {
          "base_uri": "https://localhost:8080/"
        },
        "id": "GGV4BK3AN0qY",
        "outputId": "7a39345a-3c59-4012-d368-6102fb784b6c"
      },
      "execution_count": 40,
      "outputs": [
        {
          "output_type": "stream",
          "name": "stdout",
          "text": [
            "Dataset 205, Validation 10\n"
          ]
        }
      ]
    },
    {
      "cell_type": "code",
      "source": [
        "# evaluate a persistence model\n",
        "from pandas import read_csv\n",
        "from sklearn.metrics import mean_squared_error\n",
        "from math import sqrt\n",
        "# load data\n",
        "train = read_csv('dataset.csv', header=None, index_col=0, parse_dates=True, squeeze=True)\n",
        "# prepare data\n",
        "X = train.values\n",
        "train_size = int(len(X) * 0.50)\n",
        "train, test = X[0:train_size], X[train_size:]"
      ],
      "metadata": {
        "id": "U2PObY21N5A3"
      },
      "execution_count": 42,
      "outputs": []
    },
    {
      "cell_type": "code",
      "source": [
        "# walk-forward validation\n",
        "history = [x for x in train]\n",
        "predictions = list()\n",
        "for i in range(len(test)):\n",
        "    yhat = history[-1]\n",
        "    predictions.append(yhat)\n",
        "# observation\n",
        "    obs = test[i]\n",
        "    history.append(obs)\n",
        "    print('>Predicted=%.3f, Expected=%.3f' % (yhat, obs))\n",
        "# report performance\n",
        "rmse = sqrt(mean_squared_error(test, predictions))\n",
        "print('RMSE: %.3f' % rmse)"
      ],
      "metadata": {
        "colab": {
          "base_uri": "https://localhost:8080/"
        },
        "id": "bKd78CvYN8vC",
        "outputId": "43c0e50a-ca34-4039-a92a-f4319d6cbaf5"
      },
      "execution_count": 43,
      "outputs": [
        {
          "output_type": "stream",
          "name": "stdout",
          "text": [
            ">Predicted=4.240, Expected=4.490\n",
            ">Predicted=4.490, Expected=4.780\n",
            ">Predicted=4.780, Expected=5.500\n",
            ">Predicted=5.500, Expected=5.720\n",
            ">Predicted=5.720, Expected=5.870\n",
            ">Predicted=5.870, Expected=7.180\n",
            ">Predicted=7.180, Expected=7.020\n",
            ">Predicted=7.020, Expected=6.510\n",
            ">Predicted=6.510, Expected=7.200\n",
            ">Predicted=7.200, Expected=8.180\n",
            ">Predicted=8.180, Expected=8.860\n",
            ">Predicted=8.860, Expected=10.100\n",
            ">Predicted=10.100, Expected=8.530\n",
            ">Predicted=8.530, Expected=7.510\n",
            ">Predicted=7.510, Expected=9.330\n",
            ">Predicted=9.330, Expected=10.300\n",
            ">Predicted=10.300, Expected=10.700\n",
            ">Predicted=10.700, Expected=8.910\n",
            ">Predicted=8.910, Expected=9.640\n",
            ">Predicted=9.640, Expected=8.980\n",
            ">Predicted=8.980, Expected=7.600\n",
            ">Predicted=7.600, Expected=10.100\n",
            ">Predicted=10.100, Expected=8.270\n",
            ">Predicted=8.270, Expected=7.910\n",
            ">Predicted=7.910, Expected=8.750\n",
            ">Predicted=8.750, Expected=9.320\n",
            ">Predicted=9.320, Expected=9.320\n",
            ">Predicted=9.320, Expected=9.660\n",
            ">Predicted=9.660, Expected=9.040\n",
            ">Predicted=9.040, Expected=7.150\n",
            ">Predicted=7.150, Expected=6.530\n",
            ">Predicted=6.530, Expected=6.390\n",
            ">Predicted=6.390, Expected=7.280\n",
            ">Predicted=7.280, Expected=7.110\n",
            ">Predicted=7.110, Expected=7.700\n",
            ">Predicted=7.700, Expected=8.270\n",
            ">Predicted=8.270, Expected=7.500\n",
            ">Predicted=7.500, Expected=8.250\n",
            ">Predicted=8.250, Expected=9.330\n",
            ">Predicted=9.330, Expected=10.200\n",
            ">Predicted=10.200, Expected=11.000\n",
            ">Predicted=11.000, Expected=11.400\n",
            ">Predicted=11.400, Expected=11.500\n",
            ">Predicted=11.500, Expected=10.500\n",
            ">Predicted=10.500, Expected=11.000\n",
            ">Predicted=11.000, Expected=11.200\n",
            ">Predicted=11.200, Expected=12.100\n",
            ">Predicted=12.100, Expected=10.800\n",
            ">Predicted=10.800, Expected=11.200\n",
            ">Predicted=11.200, Expected=11.500\n",
            ">Predicted=11.500, Expected=11.000\n",
            ">Predicted=11.000, Expected=10.800\n",
            ">Predicted=10.800, Expected=10.700\n",
            ">Predicted=10.700, Expected=10.800\n",
            ">Predicted=10.800, Expected=11.700\n",
            ">Predicted=11.700, Expected=11.000\n",
            ">Predicted=11.000, Expected=10.700\n",
            ">Predicted=10.700, Expected=10.500\n",
            ">Predicted=10.500, Expected=10.800\n",
            ">Predicted=10.800, Expected=10.600\n",
            ">Predicted=10.600, Expected=11.100\n",
            ">Predicted=11.100, Expected=11.100\n",
            ">Predicted=11.100, Expected=12.300\n",
            ">Predicted=12.300, Expected=12.800\n",
            ">Predicted=12.800, Expected=12.900\n",
            ">Predicted=12.900, Expected=13.800\n",
            ">Predicted=13.800, Expected=14.600\n",
            ">Predicted=14.600, Expected=14.600\n",
            ">Predicted=14.600, Expected=15.900\n",
            ">Predicted=15.900, Expected=16.200\n",
            ">Predicted=16.200, Expected=17.200\n",
            ">Predicted=17.200, Expected=17.000\n",
            ">Predicted=17.000, Expected=17.100\n",
            ">Predicted=17.100, Expected=17.200\n",
            ">Predicted=17.200, Expected=17.000\n",
            ">Predicted=17.000, Expected=17.200\n",
            ">Predicted=17.200, Expected=17.300\n",
            ">Predicted=17.300, Expected=18.200\n",
            ">Predicted=18.200, Expected=18.100\n",
            ">Predicted=18.100, Expected=17.300\n",
            ">Predicted=17.300, Expected=16.600\n",
            ">Predicted=16.600, Expected=16.200\n",
            ">Predicted=16.200, Expected=16.600\n",
            ">Predicted=16.600, Expected=16.300\n",
            ">Predicted=16.300, Expected=15.500\n",
            ">Predicted=15.500, Expected=16.200\n",
            ">Predicted=16.200, Expected=16.900\n",
            ">Predicted=16.900, Expected=17.000\n",
            ">Predicted=17.000, Expected=15.700\n",
            ">Predicted=15.700, Expected=15.200\n",
            ">Predicted=15.200, Expected=15.500\n",
            ">Predicted=15.500, Expected=15.500\n",
            ">Predicted=15.500, Expected=15.700\n",
            ">Predicted=15.700, Expected=15.900\n",
            ">Predicted=15.900, Expected=16.200\n",
            ">Predicted=16.200, Expected=16.600\n",
            ">Predicted=16.600, Expected=16.800\n",
            ">Predicted=16.800, Expected=16.900\n",
            ">Predicted=16.900, Expected=17.400\n",
            ">Predicted=17.400, Expected=17.000\n",
            ">Predicted=17.000, Expected=16.600\n",
            ">Predicted=16.600, Expected=17.500\n",
            ">Predicted=17.500, Expected=17.300\n",
            "RMSE: 0.769\n"
          ]
        }
      ]
    },
    {
      "cell_type": "code",
      "source": [
        "import warnings\n",
        "from pandas import read_csv\n",
        "from statsmodels.tsa.arima_model import ARIMA\n",
        "from sklearn.metrics import mean_squared_error\n",
        "from math import sqrt\n",
        "\n",
        "\n",
        "# evaluate an ARIMA model for a given order (p,d,q) and return RMSE\n",
        "def evaluate_arima_model(X, arima_order):\n",
        "# prepare training dataset\n",
        "    train_size = int(len(X) * 0.50)\n",
        "    train, test = X[0:train_size], X[train_size:]\n",
        "    history = [x for x in train]\n",
        "# make predictions\n",
        "    predictions = list()\n",
        "    for t in range(len(test)):\n",
        "        model = ARIMA(history, order=arima_order)\n",
        "# model_fit = model.fit(disp=0)\n",
        "        model_fit = model.fit(disp=0)\n",
        "        yhat = model_fit.forecast()[0]\n",
        "        predictions.append(yhat)\n",
        "        history.append(test[t])\n",
        "# calculate out of sample error\n",
        "    rmse = sqrt(mean_squared_error(test, predictions))\n",
        "    return rmse"
      ],
      "metadata": {
        "id": "MBDSsyWIOCxa"
      },
      "execution_count": 45,
      "outputs": []
    },
    {
      "cell_type": "code",
      "source": [
        "# evaluate combinations of p, d and q values for an ARIMA model\n",
        "def evaluate_models(dataset, p_values, d_values, q_values):\n",
        "    dataset = dataset\n",
        "    best_score, best_cfg = float('inf'), None\n",
        "    for p in p_values:\n",
        "        for d in d_values:\n",
        "            for q in q_values:\n",
        "                order = (p,d,q)\n",
        "                try:\n",
        "                    rmse = evaluate_arima_model(train, order)\n",
        "                    if rmse < best_score:\n",
        "                        best_score, best_cfg = rmse, order\n",
        "                    print('ARIMA%s RMSE=%.3f' % (order,rmse))\n",
        "                except:\n",
        "                    continue\n",
        "    print('Best ARIMA%s RMSE=%.3f' % (best_cfg, best_score))"
      ],
      "metadata": {
        "id": "MxbBCMNXOH8f"
      },
      "execution_count": 47,
      "outputs": []
    },
    {
      "cell_type": "code",
      "source": [
        "# load dataset\n",
        "train = read_csv('dataset.csv', header=None, index_col=0, parse_dates=True, squeeze=True)\n",
        "# evaluate parameters\n",
        "p_values = range(0, 3)\n",
        "d_values = range(0, 3)\n",
        "q_values = range(0, 3)\n",
        "warnings.filterwarnings(\"ignore\")\n",
        "evaluate_models(train.values, p_values, d_values, q_values)"
      ],
      "metadata": {
        "colab": {
          "base_uri": "https://localhost:8080/"
        },
        "id": "oR3hsJx6OLb1",
        "outputId": "b009e667-7036-4082-9e21-e215a474ccee"
      },
      "execution_count": 48,
      "outputs": [
        {
          "output_type": "stream",
          "name": "stdout",
          "text": [
            "ARIMA(0, 0, 0) RMSE=8.894\n",
            "ARIMA(0, 0, 1) RMSE=4.724\n",
            "ARIMA(0, 1, 0) RMSE=0.763\n",
            "ARIMA(0, 1, 1) RMSE=0.794\n",
            "ARIMA(0, 1, 2) RMSE=0.800\n",
            "ARIMA(0, 2, 0) RMSE=1.108\n",
            "ARIMA(0, 2, 1) RMSE=0.777\n",
            "ARIMA(1, 0, 0) RMSE=0.775\n",
            "ARIMA(1, 1, 0) RMSE=0.785\n",
            "ARIMA(1, 2, 0) RMSE=1.007\n",
            "ARIMA(2, 0, 0) RMSE=0.797\n",
            "ARIMA(2, 1, 0) RMSE=0.799\n",
            "ARIMA(2, 1, 1) RMSE=0.811\n",
            "ARIMA(2, 2, 0) RMSE=0.928\n",
            "Best ARIMA(0, 1, 0) RMSE=0.763\n"
          ]
        }
      ]
    },
    {
      "cell_type": "code",
      "source": [
        "# save finalized model to file\n",
        "from pandas import read_csv\n",
        "from statsmodels.tsa.arima_model import ARIMA\n",
        "import numpy\n",
        "# load data\n",
        "train = read_csv('dataset.csv', header=0, index_col=0, parse_dates=True)\n",
        "# prepare data\n",
        "X = train.values"
      ],
      "metadata": {
        "id": "um-TfeFZONve"
      },
      "execution_count": 49,
      "outputs": []
    },
    {
      "cell_type": "code",
      "source": [
        "# fit model\n",
        "model = ARIMA(X, order=(0,1,0))\n",
        "model_fit = model.fit()\n",
        "forecast=model_fit.forecast(steps=10)[0]\n",
        "model_fit.plot_predict(1, 215)"
      ],
      "metadata": {
        "colab": {
          "base_uri": "https://localhost:8080/",
          "height": 513
        },
        "id": "buFLAJn7OuTk",
        "outputId": "664cfba2-e963-45c6-f0b3-c2c1e6f66b42"
      },
      "execution_count": 50,
      "outputs": [
        {
          "output_type": "execute_result",
          "data": {
            "image/png": "[encoded data removed]",
            "text/plain": [
              "<Figure size 432x288 with 1 Axes>"
            ]
          },
          "metadata": {},
          "execution_count": 50
        },
        {
          "output_type": "display_data",
          "data": {
            "image/png": "[encoded data removed]",
            "text/plain": [
              "<Figure size 432x288 with 1 Axes>"
            ]
          },
          "metadata": {
            "needs_background": "light"
          }
        }
      ]
    },
    {
      "cell_type": "code",
      "source": [
        "#Error on the test data\n",
        "val=pd.read_csv('validation.csv',header=None)\n",
        "rmse = sqrt(mean_squared_error(val[1], forecast))\n",
        "rmse"
      ],
      "metadata": {
        "colab": {
          "base_uri": "https://localhost:8080/"
        },
        "id": "Nb6sW4neOvAz",
        "outputId": "42331f67-7642-4ba2-b630-d616a29b9154"
      },
      "execution_count": 51,
      "outputs": [
        {
          "output_type": "execute_result",
          "data": {
            "text/plain": [
              "2.1481814819464744"
            ]
          },
          "metadata": {},
          "execution_count": 51
        }
      ]
    },
    {
      "cell_type": "code",
      "source": [
        "# fit model\n",
        "data = read_excel('/content/CO2 dataset.xlsx', header=0, index_col=0, parse_dates=True)\n",
        "# prepare data\n",
        "X = train.values"
      ],
      "metadata": {
        "id": "bH3vuEP3Pr-S"
      },
      "execution_count": 53,
      "outputs": []
    },
    {
      "cell_type": "code",
      "source": [
        "model = ARIMA(X, order=(0,1,0))\n",
        "model_fit = model.fit()"
      ],
      "metadata": {
        "id": "obxfDhRXP5Vj"
      },
      "execution_count": 54,
      "outputs": []
    },
    {
      "cell_type": "code",
      "source": [
        "forecast=model_fit.forecast(steps=10)[0]\n",
        "model_fit.plot_predict(1,226)"
      ],
      "metadata": {
        "colab": {
          "base_uri": "https://localhost:8080/",
          "height": 513
        },
        "id": "lpxni5rrQCbc",
        "outputId": "7fb233f4-ecf9-42fe-d858-cc748c0f40fc"
      },
      "execution_count": 55,
      "outputs": [
        {
          "output_type": "execute_result",
          "data": {
            "image/png": "[encoded data removed]",
            "text/plain": [
              "<Figure size 432x288 with 1 Axes>"
            ]
          },
          "metadata": {},
          "execution_count": 55
        },
        {
          "output_type": "display_data",
          "data": {
            "image/png": "[encoded data removed]",
            "text/plain": [
              "<Figure size 432x288 with 1 Axes>"
            ]
          },
          "metadata": {
            "needs_background": "light"
          }
        }
      ]
    },
    {
      "cell_type": "code",
      "source": [
        "forecast"
      ],
      "metadata": {
        "colab": {
          "base_uri": "https://localhost:8080/"
        },
        "id": "qLmCxcGPQGLe",
        "outputId": "45c2cb60-f09e-480c-93ba-998fd1082e25"
      },
      "execution_count": 56,
      "outputs": [
        {
          "output_type": "execute_result",
          "data": {
            "text/plain": [
              "array([17.38519404, 17.47038808, 17.55558212, 17.64077616, 17.7259702 ,\n",
              "       17.81116424, 17.89635828, 17.98155232, 18.06674635, 18.15194039])"
            ]
          },
          "metadata": {},
          "execution_count": 56
        }
      ]
    },
    {
      "cell_type": "markdown",
      "source": [
        "Linear model,Exponential model,Quadratic model\n"
      ],
      "metadata": {
        "id": "meNjBAN7Wq0Q"
      }
    },
    {
      "cell_type": "code",
      "source": [
        "import numpy as np\n",
        "import pandas as pd\n",
        "import matplotlib.pyplot as plt\n",
        "import seaborn as sns\n",
        "import statsmodels.formula.api as smf "
      ],
      "metadata": {
        "id": "37TAsMyCYD_n"
      },
      "execution_count": 57,
      "outputs": []
    },
    {
      "cell_type": "code",
      "source": [
        "data_1= pd.read_excel(\"/content/1CO2 dataset.xlsx\")"
      ],
      "metadata": {
        "id": "xvIpn6-2Y026"
      },
      "execution_count": 59,
      "outputs": []
    },
    {
      "cell_type": "code",
      "source": [
        "plt.figure(figsize=(12,3))\n",
        "sns.lineplot(x=\"Year\",y=\"CO2\",data=data_1)"
      ],
      "metadata": {
        "colab": {
          "base_uri": "https://localhost:8080/",
          "height": 242
        },
        "id": "xjVnvNSdZGiU",
        "outputId": "dbac999d-2a29-44e1-8bc3-5ece1fa2d3ed"
      },
      "execution_count": 60,
      "outputs": [
        {
          "output_type": "execute_result",
          "data": {
            "text/plain": [
              "<matplotlib.axes._subplots.AxesSubplot at 0x7f6ec3350890>"
            ]
          },
          "metadata": {},
          "execution_count": 60
        },
        {
          "output_type": "display_data",
          "data": {
            "image/png": "[encoded data removed]",
            "text/plain": [
              "<Figure size 864x216 with 1 Axes>"
            ]
          },
          "metadata": {
            "needs_background": "light"
          }
        }
      ]
    },
    {
      "cell_type": "markdown",
      "source": [
        "Splitting data"
      ],
      "metadata": {
        "id": "JPEIBFk-7jbB"
      }
    },
    {
      "cell_type": "code",
      "source": [
        "Train = data_1.head(170)\n",
        "Test = data_1.tail(45)"
      ],
      "metadata": {
        "id": "t4lVtN9GZXlM"
      },
      "execution_count": 67,
      "outputs": []
    },
    {
      "cell_type": "code",
      "source": [
        "Test"
      ],
      "metadata": {
        "colab": {
          "base_uri": "https://localhost:8080/",
          "height": 1000
        },
        "id": "9WKLFiE9ZnuK",
        "outputId": "d91aecad-e8e5-431d-f7cc-1133d73d81f6"
      },
      "execution_count": 68,
      "outputs": [
        {
          "output_type": "execute_result",
          "data": {
            "text/html": [
              "<div>\n",
              "<style scoped>\n",
              "    .dataframe tbody tr th:only-of-type {\n",
              "        vertical-align: middle;\n",
              "    }\n",
              "\n",
              "    .dataframe tbody tr th {\n",
              "        vertical-align: top;\n",
              "    }\n",
              "\n",
              "    .dataframe thead th {\n",
              "        text-align: right;\n",
              "    }\n",
              "</style>\n",
              "<table border=\"1\" class=\"dataframe\">\n",
              "  <thead>\n",
              "    <tr style=\"text-align: right;\">\n",
              "      <th></th>\n",
              "      <th>Year</th>\n",
              "      <th>CO2</th>\n",
              "      <th>t</th>\n",
              "      <th>log_co2</th>\n",
              "      <th>t_square</th>\n",
              "    </tr>\n",
              "  </thead>\n",
              "  <tbody>\n",
              "    <tr>\n",
              "      <th>170</th>\n",
              "      <td>1970</td>\n",
              "      <td>15.9</td>\n",
              "      <td>171</td>\n",
              "      <td>1.201397</td>\n",
              "      <td>29241</td>\n",
              "    </tr>\n",
              "    <tr>\n",
              "      <th>171</th>\n",
              "      <td>1971</td>\n",
              "      <td>16.2</td>\n",
              "      <td>172</td>\n",
              "      <td>1.209515</td>\n",
              "      <td>29584</td>\n",
              "    </tr>\n",
              "    <tr>\n",
              "      <th>172</th>\n",
              "      <td>1972</td>\n",
              "      <td>17.2</td>\n",
              "      <td>173</td>\n",
              "      <td>1.235528</td>\n",
              "      <td>29929</td>\n",
              "    </tr>\n",
              "    <tr>\n",
              "      <th>173</th>\n",
              "      <td>1973</td>\n",
              "      <td>17.0</td>\n",
              "      <td>174</td>\n",
              "      <td>1.230449</td>\n",
              "      <td>30276</td>\n",
              "    </tr>\n",
              "    <tr>\n",
              "      <th>174</th>\n",
              "      <td>1974</td>\n",
              "      <td>17.1</td>\n",
              "      <td>175</td>\n",
              "      <td>1.232996</td>\n",
              "      <td>30625</td>\n",
              "    </tr>\n",
              "    <tr>\n",
              "      <th>175</th>\n",
              "      <td>1975</td>\n",
              "      <td>17.2</td>\n",
              "      <td>176</td>\n",
              "      <td>1.235528</td>\n",
              "      <td>30976</td>\n",
              "    </tr>\n",
              "    <tr>\n",
              "      <th>176</th>\n",
              "      <td>1976</td>\n",
              "      <td>17.0</td>\n",
              "      <td>177</td>\n",
              "      <td>1.230449</td>\n",
              "      <td>31329</td>\n",
              "    </tr>\n",
              "    <tr>\n",
              "      <th>177</th>\n",
              "      <td>1977</td>\n",
              "      <td>17.2</td>\n",
              "      <td>178</td>\n",
              "      <td>1.235528</td>\n",
              "      <td>31684</td>\n",
              "    </tr>\n",
              "    <tr>\n",
              "      <th>178</th>\n",
              "      <td>1978</td>\n",
              "      <td>17.3</td>\n",
              "      <td>179</td>\n",
              "      <td>1.238046</td>\n",
              "      <td>32041</td>\n",
              "    </tr>\n",
              "    <tr>\n",
              "      <th>179</th>\n",
              "      <td>1979</td>\n",
              "      <td>18.2</td>\n",
              "      <td>180</td>\n",
              "      <td>1.260071</td>\n",
              "      <td>32400</td>\n",
              "    </tr>\n",
              "    <tr>\n",
              "      <th>180</th>\n",
              "      <td>1980</td>\n",
              "      <td>18.1</td>\n",
              "      <td>181</td>\n",
              "      <td>1.257679</td>\n",
              "      <td>32761</td>\n",
              "    </tr>\n",
              "    <tr>\n",
              "      <th>181</th>\n",
              "      <td>1981</td>\n",
              "      <td>17.3</td>\n",
              "      <td>182</td>\n",
              "      <td>1.238046</td>\n",
              "      <td>33124</td>\n",
              "    </tr>\n",
              "    <tr>\n",
              "      <th>182</th>\n",
              "      <td>1982</td>\n",
              "      <td>16.6</td>\n",
              "      <td>183</td>\n",
              "      <td>1.220108</td>\n",
              "      <td>33489</td>\n",
              "    </tr>\n",
              "    <tr>\n",
              "      <th>183</th>\n",
              "      <td>1983</td>\n",
              "      <td>16.2</td>\n",
              "      <td>184</td>\n",
              "      <td>1.209515</td>\n",
              "      <td>33856</td>\n",
              "    </tr>\n",
              "    <tr>\n",
              "      <th>184</th>\n",
              "      <td>1984</td>\n",
              "      <td>16.6</td>\n",
              "      <td>185</td>\n",
              "      <td>1.220108</td>\n",
              "      <td>34225</td>\n",
              "    </tr>\n",
              "    <tr>\n",
              "      <th>185</th>\n",
              "      <td>1985</td>\n",
              "      <td>16.3</td>\n",
              "      <td>186</td>\n",
              "      <td>1.212188</td>\n",
              "      <td>34596</td>\n",
              "    </tr>\n",
              "    <tr>\n",
              "      <th>186</th>\n",
              "      <td>1986</td>\n",
              "      <td>15.5</td>\n",
              "      <td>187</td>\n",
              "      <td>1.190332</td>\n",
              "      <td>34969</td>\n",
              "    </tr>\n",
              "    <tr>\n",
              "      <th>187</th>\n",
              "      <td>1987</td>\n",
              "      <td>16.2</td>\n",
              "      <td>188</td>\n",
              "      <td>1.209515</td>\n",
              "      <td>35344</td>\n",
              "    </tr>\n",
              "    <tr>\n",
              "      <th>188</th>\n",
              "      <td>1988</td>\n",
              "      <td>16.9</td>\n",
              "      <td>189</td>\n",
              "      <td>1.227887</td>\n",
              "      <td>35721</td>\n",
              "    </tr>\n",
              "    <tr>\n",
              "      <th>189</th>\n",
              "      <td>1989</td>\n",
              "      <td>17.0</td>\n",
              "      <td>190</td>\n",
              "      <td>1.230449</td>\n",
              "      <td>36100</td>\n",
              "    </tr>\n",
              "    <tr>\n",
              "      <th>190</th>\n",
              "      <td>1990</td>\n",
              "      <td>15.7</td>\n",
              "      <td>191</td>\n",
              "      <td>1.195900</td>\n",
              "      <td>36481</td>\n",
              "    </tr>\n",
              "    <tr>\n",
              "      <th>191</th>\n",
              "      <td>1991</td>\n",
              "      <td>15.2</td>\n",
              "      <td>192</td>\n",
              "      <td>1.181844</td>\n",
              "      <td>36864</td>\n",
              "    </tr>\n",
              "    <tr>\n",
              "      <th>192</th>\n",
              "      <td>1992</td>\n",
              "      <td>15.5</td>\n",
              "      <td>193</td>\n",
              "      <td>1.190332</td>\n",
              "      <td>37249</td>\n",
              "    </tr>\n",
              "    <tr>\n",
              "      <th>193</th>\n",
              "      <td>1993</td>\n",
              "      <td>15.5</td>\n",
              "      <td>194</td>\n",
              "      <td>1.190332</td>\n",
              "      <td>37636</td>\n",
              "    </tr>\n",
              "    <tr>\n",
              "      <th>194</th>\n",
              "      <td>1994</td>\n",
              "      <td>15.7</td>\n",
              "      <td>195</td>\n",
              "      <td>1.195900</td>\n",
              "      <td>38025</td>\n",
              "    </tr>\n",
              "    <tr>\n",
              "      <th>195</th>\n",
              "      <td>1995</td>\n",
              "      <td>15.9</td>\n",
              "      <td>196</td>\n",
              "      <td>1.201397</td>\n",
              "      <td>38416</td>\n",
              "    </tr>\n",
              "    <tr>\n",
              "      <th>196</th>\n",
              "      <td>1996</td>\n",
              "      <td>16.2</td>\n",
              "      <td>197</td>\n",
              "      <td>1.209515</td>\n",
              "      <td>38809</td>\n",
              "    </tr>\n",
              "    <tr>\n",
              "      <th>197</th>\n",
              "      <td>1997</td>\n",
              "      <td>16.6</td>\n",
              "      <td>198</td>\n",
              "      <td>1.220108</td>\n",
              "      <td>39204</td>\n",
              "    </tr>\n",
              "    <tr>\n",
              "      <th>198</th>\n",
              "      <td>1998</td>\n",
              "      <td>16.8</td>\n",
              "      <td>199</td>\n",
              "      <td>1.225309</td>\n",
              "      <td>39601</td>\n",
              "    </tr>\n",
              "    <tr>\n",
              "      <th>199</th>\n",
              "      <td>1999</td>\n",
              "      <td>16.9</td>\n",
              "      <td>200</td>\n",
              "      <td>1.227887</td>\n",
              "      <td>40000</td>\n",
              "    </tr>\n",
              "    <tr>\n",
              "      <th>200</th>\n",
              "      <td>2000</td>\n",
              "      <td>17.4</td>\n",
              "      <td>201</td>\n",
              "      <td>1.240549</td>\n",
              "      <td>40401</td>\n",
              "    </tr>\n",
              "    <tr>\n",
              "      <th>201</th>\n",
              "      <td>2001</td>\n",
              "      <td>17.0</td>\n",
              "      <td>202</td>\n",
              "      <td>1.230449</td>\n",
              "      <td>40804</td>\n",
              "    </tr>\n",
              "    <tr>\n",
              "      <th>202</th>\n",
              "      <td>2002</td>\n",
              "      <td>16.6</td>\n",
              "      <td>203</td>\n",
              "      <td>1.220108</td>\n",
              "      <td>41209</td>\n",
              "    </tr>\n",
              "    <tr>\n",
              "      <th>203</th>\n",
              "      <td>2003</td>\n",
              "      <td>17.5</td>\n",
              "      <td>204</td>\n",
              "      <td>1.243038</td>\n",
              "      <td>41616</td>\n",
              "    </tr>\n",
              "    <tr>\n",
              "      <th>204</th>\n",
              "      <td>2004</td>\n",
              "      <td>17.3</td>\n",
              "      <td>205</td>\n",
              "      <td>1.238046</td>\n",
              "      <td>42025</td>\n",
              "    </tr>\n",
              "    <tr>\n",
              "      <th>205</th>\n",
              "      <td>2005</td>\n",
              "      <td>17.3</td>\n",
              "      <td>206</td>\n",
              "      <td>1.238046</td>\n",
              "      <td>42436</td>\n",
              "    </tr>\n",
              "    <tr>\n",
              "      <th>206</th>\n",
              "      <td>2006</td>\n",
              "      <td>16.7</td>\n",
              "      <td>207</td>\n",
              "      <td>1.222716</td>\n",
              "      <td>42849</td>\n",
              "    </tr>\n",
              "    <tr>\n",
              "      <th>207</th>\n",
              "      <td>2007</td>\n",
              "      <td>16.8</td>\n",
              "      <td>208</td>\n",
              "      <td>1.225309</td>\n",
              "      <td>43264</td>\n",
              "    </tr>\n",
              "    <tr>\n",
              "      <th>208</th>\n",
              "      <td>2008</td>\n",
              "      <td>16.8</td>\n",
              "      <td>209</td>\n",
              "      <td>1.225309</td>\n",
              "      <td>43681</td>\n",
              "    </tr>\n",
              "    <tr>\n",
              "      <th>209</th>\n",
              "      <td>2009</td>\n",
              "      <td>15.9</td>\n",
              "      <td>210</td>\n",
              "      <td>1.201397</td>\n",
              "      <td>44100</td>\n",
              "    </tr>\n",
              "    <tr>\n",
              "      <th>210</th>\n",
              "      <td>2010</td>\n",
              "      <td>15.6</td>\n",
              "      <td>211</td>\n",
              "      <td>1.193125</td>\n",
              "      <td>44521</td>\n",
              "    </tr>\n",
              "    <tr>\n",
              "      <th>211</th>\n",
              "      <td>2011</td>\n",
              "      <td>15.6</td>\n",
              "      <td>212</td>\n",
              "      <td>1.193125</td>\n",
              "      <td>44944</td>\n",
              "    </tr>\n",
              "    <tr>\n",
              "      <th>212</th>\n",
              "      <td>2012</td>\n",
              "      <td>14.8</td>\n",
              "      <td>213</td>\n",
              "      <td>1.170262</td>\n",
              "      <td>45369</td>\n",
              "    </tr>\n",
              "    <tr>\n",
              "      <th>213</th>\n",
              "      <td>2013</td>\n",
              "      <td>14.7</td>\n",
              "      <td>214</td>\n",
              "      <td>1.167317</td>\n",
              "      <td>45796</td>\n",
              "    </tr>\n",
              "    <tr>\n",
              "      <th>214</th>\n",
              "      <td>2014</td>\n",
              "      <td>15.1</td>\n",
              "      <td>215</td>\n",
              "      <td>1.178977</td>\n",
              "      <td>46225</td>\n",
              "    </tr>\n",
              "  </tbody>\n",
              "</table>\n",
              "</div>"
            ],
            "text/plain": [
              "     Year   CO2    t   log_co2  t_square\n",
              "170  1970  15.9  171  1.201397     29241\n",
              "171  1971  16.2  172  1.209515     29584\n",
              "172  1972  17.2  173  1.235528     29929\n",
              "173  1973  17.0  174  1.230449     30276\n",
              "174  1974  17.1  175  1.232996     30625\n",
              "175  1975  17.2  176  1.235528     30976\n",
              "176  1976  17.0  177  1.230449     31329\n",
              "177  1977  17.2  178  1.235528     31684\n",
              "178  1978  17.3  179  1.238046     32041\n",
              "179  1979  18.2  180  1.260071     32400\n",
              "180  1980  18.1  181  1.257679     32761\n",
              "181  1981  17.3  182  1.238046     33124\n",
              "182  1982  16.6  183  1.220108     33489\n",
              "183  1983  16.2  184  1.209515     33856\n",
              "184  1984  16.6  185  1.220108     34225\n",
              "185  1985  16.3  186  1.212188     34596\n",
              "186  1986  15.5  187  1.190332     34969\n",
              "187  1987  16.2  188  1.209515     35344\n",
              "188  1988  16.9  189  1.227887     35721\n",
              "189  1989  17.0  190  1.230449     36100\n",
              "190  1990  15.7  191  1.195900     36481\n",
              "191  1991  15.2  192  1.181844     36864\n",
              "192  1992  15.5  193  1.190332     37249\n",
              "193  1993  15.5  194  1.190332     37636\n",
              "194  1994  15.7  195  1.195900     38025\n",
              "195  1995  15.9  196  1.201397     38416\n",
              "196  1996  16.2  197  1.209515     38809\n",
              "197  1997  16.6  198  1.220108     39204\n",
              "198  1998  16.8  199  1.225309     39601\n",
              "199  1999  16.9  200  1.227887     40000\n",
              "200  2000  17.4  201  1.240549     40401\n",
              "201  2001  17.0  202  1.230449     40804\n",
              "202  2002  16.6  203  1.220108     41209\n",
              "203  2003  17.5  204  1.243038     41616\n",
              "204  2004  17.3  205  1.238046     42025\n",
              "205  2005  17.3  206  1.238046     42436\n",
              "206  2006  16.7  207  1.222716     42849\n",
              "207  2007  16.8  208  1.225309     43264\n",
              "208  2008  16.8  209  1.225309     43681\n",
              "209  2009  15.9  210  1.201397     44100\n",
              "210  2010  15.6  211  1.193125     44521\n",
              "211  2011  15.6  212  1.193125     44944\n",
              "212  2012  14.8  213  1.170262     45369\n",
              "213  2013  14.7  214  1.167317     45796\n",
              "214  2014  15.1  215  1.178977     46225"
            ]
          },
          "metadata": {},
          "execution_count": 68
        }
      ]
    },
    {
      "cell_type": "code",
      "source": [
        "#Linear Model\n",
        "\n",
        "linear_model = smf.ols('CO2~t',data=Train).fit()\n",
        "pred_linear =  pd.Series(linear_model.predict(pd.DataFrame(Test['t'])))\n",
        "rmse_linear = np.sqrt(np.mean((np.array(Test['CO2'])-np.array(pred_linear))**2))\n",
        "rmse_linear"
      ],
      "metadata": {
        "colab": {
          "base_uri": "https://localhost:8080/"
        },
        "id": "JQ4mgZupdgJM",
        "outputId": "533184df-19c3-4850-a1a2-eda91b9af22d"
      },
      "execution_count": 69,
      "outputs": [
        {
          "output_type": "execute_result",
          "data": {
            "text/plain": [
              "3.3962509989954257"
            ]
          },
          "metadata": {},
          "execution_count": 69
        }
      ]
    },
    {
      "cell_type": "code",
      "source": [
        "#Exponential\n",
        "\n",
        "Exp = smf.ols('log_co2~t',data=Train).fit()\n",
        "pred_Exp = pd.Series(Exp.predict(pd.DataFrame(Test['t'])))\n",
        "rmse_Exp = np.sqrt(np.mean((np.array(Test['CO2'])-np.array(np.exp(pred_Exp)))**2))\n",
        "rmse_Exp"
      ],
      "metadata": {
        "colab": {
          "base_uri": "https://localhost:8080/"
        },
        "id": "6O0HY5hLz0F_",
        "outputId": "26aaaf6c-6fb2-486c-944f-5963a4b900fa"
      },
      "execution_count": 70,
      "outputs": [
        {
          "output_type": "execute_result",
          "data": {
            "text/plain": [
              "5.939389934314735"
            ]
          },
          "metadata": {},
          "execution_count": 70
        }
      ]
    },
    {
      "cell_type": "code",
      "source": [
        "#Quadratic \n",
        "\n",
        "Quad = smf.ols('CO2~t+t_square',data=Train).fit()\n",
        "pred_Quad = pd.Series(Quad.predict(Test[[\"t\",\"t_square\"]]))\n",
        "rmse_Quad = np.sqrt(np.mean((np.array(Test['CO2'])-np.array(pred_Quad))**2))\n",
        "rmse_Quad"
      ],
      "metadata": {
        "colab": {
          "base_uri": "https://localhost:8080/"
        },
        "id": "OwApmlON0CHd",
        "outputId": "ea17464e-3c5e-496c-de70-799398152e71"
      },
      "execution_count": 71,
      "outputs": [
        {
          "output_type": "execute_result",
          "data": {
            "text/plain": [
              "4.2246952710030445"
            ]
          },
          "metadata": {},
          "execution_count": 71
        }
      ]
    },
    {
      "cell_type": "code",
      "source": [
        "#Compare the results \n",
        "\n",
        "data = {\"MODEL\":pd.Series([\"rmse_linear\",\"rmse_Exp\",\"rmse_Quad\"]),\"RMSE_Values\":pd.Series([rmse_linear,rmse_Exp,rmse_Quad])}\n",
        "table_rmse=pd.DataFrame(data)\n",
        "table_rmse.sort_values(['RMSE_Values'])"
      ],
      "metadata": {
        "colab": {
          "base_uri": "https://localhost:8080/",
          "height": 143
        },
        "id": "i-YLeRJb0KcT",
        "outputId": "249fb83c-496f-4dc8-cd58-99f27243521b"
      },
      "execution_count": 72,
      "outputs": [
        {
          "output_type": "execute_result",
          "data": {
            "text/html": [
              "<div>\n",
              "<style scoped>\n",
              "    .dataframe tbody tr th:only-of-type {\n",
              "        vertical-align: middle;\n",
              "    }\n",
              "\n",
              "    .dataframe tbody tr th {\n",
              "        vertical-align: top;\n",
              "    }\n",
              "\n",
              "    .dataframe thead th {\n",
              "        text-align: right;\n",
              "    }\n",
              "</style>\n",
              "<table border=\"1\" class=\"dataframe\">\n",
              "  <thead>\n",
              "    <tr style=\"text-align: right;\">\n",
              "      <th></th>\n",
              "      <th>MODEL</th>\n",
              "      <th>RMSE_Values</th>\n",
              "    </tr>\n",
              "  </thead>\n",
              "  <tbody>\n",
              "    <tr>\n",
              "      <th>0</th>\n",
              "      <td>rmse_linear</td>\n",
              "      <td>3.396251</td>\n",
              "    </tr>\n",
              "    <tr>\n",
              "      <th>2</th>\n",
              "      <td>rmse_Quad</td>\n",
              "      <td>4.224695</td>\n",
              "    </tr>\n",
              "    <tr>\n",
              "      <th>1</th>\n",
              "      <td>rmse_Exp</td>\n",
              "      <td>5.939390</td>\n",
              "    </tr>\n",
              "  </tbody>\n",
              "</table>\n",
              "</div>"
            ],
            "text/plain": [
              "         MODEL  RMSE_Values\n",
              "0  rmse_linear     3.396251\n",
              "2    rmse_Quad     4.224695\n",
              "1     rmse_Exp     5.939390"
            ]
          },
          "metadata": {},
          "execution_count": 72
        }
      ]
    },
    {
      "cell_type": "markdown",
      "source": [
        "Predict for new time period"
      ],
      "metadata": {
        "id": "OafiF6U77OO3"
      }
    },
    {
      "cell_type": "code",
      "source": [
        "predict_data = pd.read_excel(\"/content/Predict_New1.xlsx\")\n"
      ],
      "metadata": {
        "id": "B-GwCa5K3NSD"
      },
      "execution_count": 79,
      "outputs": []
    },
    {
      "cell_type": "code",
      "source": [
        "predict_data"
      ],
      "metadata": {
        "colab": {
          "base_uri": "https://localhost:8080/",
          "height": 394
        },
        "id": "E9cqOJp03OmL",
        "outputId": "88d19db5-238b-4782-c389-a9267a0614b0"
      },
      "execution_count": 80,
      "outputs": [
        {
          "output_type": "execute_result",
          "data": {
            "text/html": [
              "<div>\n",
              "<style scoped>\n",
              "    .dataframe tbody tr th:only-of-type {\n",
              "        vertical-align: middle;\n",
              "    }\n",
              "\n",
              "    .dataframe tbody tr th {\n",
              "        vertical-align: top;\n",
              "    }\n",
              "\n",
              "    .dataframe thead th {\n",
              "        text-align: right;\n",
              "    }\n",
              "</style>\n",
              "<table border=\"1\" class=\"dataframe\">\n",
              "  <thead>\n",
              "    <tr style=\"text-align: right;\">\n",
              "      <th></th>\n",
              "      <th>year</th>\n",
              "      <th>t</th>\n",
              "      <th>t_square</th>\n",
              "    </tr>\n",
              "  </thead>\n",
              "  <tbody>\n",
              "    <tr>\n",
              "      <th>0</th>\n",
              "      <td>2015</td>\n",
              "      <td>216</td>\n",
              "      <td>46656</td>\n",
              "    </tr>\n",
              "    <tr>\n",
              "      <th>1</th>\n",
              "      <td>2016</td>\n",
              "      <td>217</td>\n",
              "      <td>47089</td>\n",
              "    </tr>\n",
              "    <tr>\n",
              "      <th>2</th>\n",
              "      <td>2017</td>\n",
              "      <td>218</td>\n",
              "      <td>47524</td>\n",
              "    </tr>\n",
              "    <tr>\n",
              "      <th>3</th>\n",
              "      <td>2018</td>\n",
              "      <td>219</td>\n",
              "      <td>47961</td>\n",
              "    </tr>\n",
              "    <tr>\n",
              "      <th>4</th>\n",
              "      <td>2019</td>\n",
              "      <td>220</td>\n",
              "      <td>48400</td>\n",
              "    </tr>\n",
              "    <tr>\n",
              "      <th>5</th>\n",
              "      <td>2020</td>\n",
              "      <td>221</td>\n",
              "      <td>48841</td>\n",
              "    </tr>\n",
              "    <tr>\n",
              "      <th>6</th>\n",
              "      <td>2021</td>\n",
              "      <td>222</td>\n",
              "      <td>49284</td>\n",
              "    </tr>\n",
              "    <tr>\n",
              "      <th>7</th>\n",
              "      <td>2022</td>\n",
              "      <td>223</td>\n",
              "      <td>49729</td>\n",
              "    </tr>\n",
              "    <tr>\n",
              "      <th>8</th>\n",
              "      <td>2023</td>\n",
              "      <td>224</td>\n",
              "      <td>50176</td>\n",
              "    </tr>\n",
              "    <tr>\n",
              "      <th>9</th>\n",
              "      <td>2024</td>\n",
              "      <td>225</td>\n",
              "      <td>50625</td>\n",
              "    </tr>\n",
              "    <tr>\n",
              "      <th>10</th>\n",
              "      <td>2025</td>\n",
              "      <td>226</td>\n",
              "      <td>51076</td>\n",
              "    </tr>\n",
              "  </tbody>\n",
              "</table>\n",
              "</div>"
            ],
            "text/plain": [
              "    year    t  t_square\n",
              "0   2015  216     46656\n",
              "1   2016  217     47089\n",
              "2   2017  218     47524\n",
              "3   2018  219     47961\n",
              "4   2019  220     48400\n",
              "5   2020  221     48841\n",
              "6   2021  222     49284\n",
              "7   2022  223     49729\n",
              "8   2023  224     50176\n",
              "9   2024  225     50625\n",
              "10  2025  226     51076"
            ]
          },
          "metadata": {},
          "execution_count": 80
        }
      ]
    },
    {
      "cell_type": "code",
      "source": [
        "#Build the model on entire data set\n",
        "model_full = smf.ols('CO2~t',data=data_1).fit()"
      ],
      "metadata": {
        "id": "ufmcaZDo1axm"
      },
      "execution_count": 81,
      "outputs": []
    },
    {
      "cell_type": "code",
      "source": [
        "pred_new  = pd.Series(model_full.predict(predict_data))\n",
        "pred_new"
      ],
      "metadata": {
        "colab": {
          "base_uri": "https://localhost:8080/"
        },
        "id": "28dKy4Mf3cgf",
        "outputId": "df5789a4-d020-4305-898e-79edafccd5af"
      },
      "execution_count": 82,
      "outputs": [
        {
          "output_type": "execute_result",
          "data": {
            "text/plain": [
              "0     17.513307\n",
              "1     17.613042\n",
              "2     17.712776\n",
              "3     17.812511\n",
              "4     17.912245\n",
              "5     18.011980\n",
              "6     18.111715\n",
              "7     18.211449\n",
              "8     18.311184\n",
              "9     18.410918\n",
              "10    18.510653\n",
              "dtype: float64"
            ]
          },
          "metadata": {},
          "execution_count": 82
        }
      ]
    },
    {
      "cell_type": "code",
      "source": [
        "predict_data[\"forecasted_CO2\"] = pd.Series(pred_new)"
      ],
      "metadata": {
        "id": "em2h-XiM4EwK"
      },
      "execution_count": 83,
      "outputs": []
    },
    {
      "cell_type": "code",
      "source": [
        "predict_data"
      ],
      "metadata": {
        "colab": {
          "base_uri": "https://localhost:8080/",
          "height": 394
        },
        "id": "pgdhkiCW4PdV",
        "outputId": "f0fc7037-2cd6-44c9-9a2e-4d476343e403"
      },
      "execution_count": 84,
      "outputs": [
        {
          "output_type": "execute_result",
          "data": {
            "text/html": [
              "<div>\n",
              "<style scoped>\n",
              "    .dataframe tbody tr th:only-of-type {\n",
              "        vertical-align: middle;\n",
              "    }\n",
              "\n",
              "    .dataframe tbody tr th {\n",
              "        vertical-align: top;\n",
              "    }\n",
              "\n",
              "    .dataframe thead th {\n",
              "        text-align: right;\n",
              "    }\n",
              "</style>\n",
              "<table border=\"1\" class=\"dataframe\">\n",
              "  <thead>\n",
              "    <tr style=\"text-align: right;\">\n",
              "      <th></th>\n",
              "      <th>year</th>\n",
              "      <th>t</th>\n",
              "      <th>t_square</th>\n",
              "      <th>forecasted_CO2</th>\n",
              "    </tr>\n",
              "  </thead>\n",
              "  <tbody>\n",
              "    <tr>\n",
              "      <th>0</th>\n",
              "      <td>2015</td>\n",
              "      <td>216</td>\n",
              "      <td>46656</td>\n",
              "      <td>17.513307</td>\n",
              "    </tr>\n",
              "    <tr>\n",
              "      <th>1</th>\n",
              "      <td>2016</td>\n",
              "      <td>217</td>\n",
              "      <td>47089</td>\n",
              "      <td>17.613042</td>\n",
              "    </tr>\n",
              "    <tr>\n",
              "      <th>2</th>\n",
              "      <td>2017</td>\n",
              "      <td>218</td>\n",
              "      <td>47524</td>\n",
              "      <td>17.712776</td>\n",
              "    </tr>\n",
              "    <tr>\n",
              "      <th>3</th>\n",
              "      <td>2018</td>\n",
              "      <td>219</td>\n",
              "      <td>47961</td>\n",
              "      <td>17.812511</td>\n",
              "    </tr>\n",
              "    <tr>\n",
              "      <th>4</th>\n",
              "      <td>2019</td>\n",
              "      <td>220</td>\n",
              "      <td>48400</td>\n",
              "      <td>17.912245</td>\n",
              "    </tr>\n",
              "    <tr>\n",
              "      <th>5</th>\n",
              "      <td>2020</td>\n",
              "      <td>221</td>\n",
              "      <td>48841</td>\n",
              "      <td>18.011980</td>\n",
              "    </tr>\n",
              "    <tr>\n",
              "      <th>6</th>\n",
              "      <td>2021</td>\n",
              "      <td>222</td>\n",
              "      <td>49284</td>\n",
              "      <td>18.111715</td>\n",
              "    </tr>\n",
              "    <tr>\n",
              "      <th>7</th>\n",
              "      <td>2022</td>\n",
              "      <td>223</td>\n",
              "      <td>49729</td>\n",
              "      <td>18.211449</td>\n",
              "    </tr>\n",
              "    <tr>\n",
              "      <th>8</th>\n",
              "      <td>2023</td>\n",
              "      <td>224</td>\n",
              "      <td>50176</td>\n",
              "      <td>18.311184</td>\n",
              "    </tr>\n",
              "    <tr>\n",
              "      <th>9</th>\n",
              "      <td>2024</td>\n",
              "      <td>225</td>\n",
              "      <td>50625</td>\n",
              "      <td>18.410918</td>\n",
              "    </tr>\n",
              "    <tr>\n",
              "      <th>10</th>\n",
              "      <td>2025</td>\n",
              "      <td>226</td>\n",
              "      <td>51076</td>\n",
              "      <td>18.510653</td>\n",
              "    </tr>\n",
              "  </tbody>\n",
              "</table>\n",
              "</div>"
            ],
            "text/plain": [
              "    year    t  t_square  forecasted_CO2\n",
              "0   2015  216     46656       17.513307\n",
              "1   2016  217     47089       17.613042\n",
              "2   2017  218     47524       17.712776\n",
              "3   2018  219     47961       17.812511\n",
              "4   2019  220     48400       17.912245\n",
              "5   2020  221     48841       18.011980\n",
              "6   2021  222     49284       18.111715\n",
              "7   2022  223     49729       18.211449\n",
              "8   2023  224     50176       18.311184\n",
              "9   2024  225     50625       18.410918\n",
              "10  2025  226     51076       18.510653"
            ]
          },
          "metadata": {},
          "execution_count": 84
        }
      ]
    },
    {
      "cell_type": "code",
      "source": [
        ""
      ],
      "metadata": {
        "id": "pNdrFYKo4SCB"
      },
      "execution_count": null,
      "outputs": []
    }
  ]
}